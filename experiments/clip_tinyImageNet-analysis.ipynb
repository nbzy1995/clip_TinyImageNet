{
 "cells": [
  {
   "cell_type": "markdown",
   "metadata": {},
   "source": [
    "This notebook perform some analysis on several CLIP models fine-tuned on TinyImageNet. "
   ]
  },
  {
   "cell_type": "markdown",
   "metadata": {
    "id": "vLaqZVWVR4tE"
   },
   "source": [
    "## Setup Environment"
   ]
  },
  {
   "cell_type": "code",
   "execution_count": 1,
   "metadata": {
    "executionInfo": {
     "elapsed": 18,
     "status": "ok",
     "timestamp": 1756051719474,
     "user": {
      "displayName": "Yang Zhou",
      "userId": "09717432835810465973"
     },
     "user_tz": 240
    },
    "id": "NxzIeVi39G-1"
   },
   "outputs": [],
   "source": [
    "LOCAL = True\n",
    "\n",
    "# if run locally:\n",
    "if LOCAL:\n",
    "    DATA_DIR = \"../dataset\"\n",
    "    CODE_DIR = \"../\"\n",
    "# on Colab\n",
    "else:\n",
    "    DATA_DIR = \"/content\"\n",
    "    CODE_DIR = \"./clip_TinyImageNet\""
   ]
  },
  {
   "cell_type": "markdown",
   "metadata": {},
   "source": [
    "By default, We will work under the same dir as this notebook"
   ]
  },
  {
   "cell_type": "code",
   "execution_count": 2,
   "metadata": {
    "executionInfo": {
     "elapsed": 39,
     "status": "ok",
     "timestamp": 1756051719516,
     "user": {
      "displayName": "Yang Zhou",
      "userId": "09717432835810465973"
     },
     "user_tz": 240
    },
    "id": "z5vVaNV99G-1"
   },
   "outputs": [],
   "source": [
    "import os, sys\n",
    "ROOT = os.path.abspath(CODE_DIR)\n",
    "if ROOT not in sys.path:\n",
    "    sys.path.insert(0, ROOT)"
   ]
  },
  {
   "cell_type": "markdown",
   "metadata": {
    "id": "HlsOOf4r9G-2"
   },
   "source": [
    "If you want to use Claude Code, uncomment the cell below."
   ]
  },
  {
   "cell_type": "code",
   "execution_count": 3,
   "metadata": {
    "executionInfo": {
     "elapsed": 13,
     "status": "ok",
     "timestamp": 1756051719529,
     "user": {
      "displayName": "Yang Zhou",
      "userId": "09717432835810465973"
     },
     "user_tz": 240
    },
    "id": "QnjsVSoia2CU"
   },
   "outputs": [],
   "source": [
    "# !npm install -g @anthropic-ai/claude-code"
   ]
  },
  {
   "cell_type": "markdown",
   "metadata": {
    "id": "5O1BqBcz9G-2"
   },
   "source": [
    "If use Colab, you need to save output results to google drive."
   ]
  },
  {
   "cell_type": "code",
   "execution_count": 4,
   "metadata": {
    "colab": {
     "base_uri": "https://localhost:8080/"
    },
    "executionInfo": {
     "elapsed": 19655,
     "status": "ok",
     "timestamp": 1756051739176,
     "user": {
      "displayName": "Yang Zhou",
      "userId": "09717432835810465973"
     },
     "user_tz": 240
    },
    "id": "-GlMz92MR4tG",
    "outputId": "bd24bf3e-9aa9-40dc-a620-ee017df8a62f"
   },
   "outputs": [],
   "source": [
    "if not LOCAL:\n",
    "    from google.colab import drive\n",
    "    drive.mount('/content/drive')\n",
    "    storage_dir = \"drive/MyDrive/Colab Notebooks/\""
   ]
  },
  {
   "cell_type": "markdown",
   "metadata": {
    "id": "K23WdGmnfvFA"
   },
   "source": [
    "To copy the code for fine-tuneing clip on tinyImageNet, run:"
   ]
  },
  {
   "cell_type": "code",
   "execution_count": 5,
   "metadata": {
    "colab": {
     "base_uri": "https://localhost:8080/"
    },
    "executionInfo": {
     "elapsed": 1542,
     "status": "ok",
     "timestamp": 1756051740719,
     "user": {
      "displayName": "Yang Zhou",
      "userId": "09717432835810465973"
     },
     "user_tz": 240
    },
    "id": "nTJAmIyofRi9",
    "outputId": "051dd08f-fb95-4c12-8308-3558216f8568"
   },
   "outputs": [],
   "source": [
    "if not LOCAL:\n",
    "    !git clone https://github.com/nbzy1995/clip_TinyImageNet.git"
   ]
  },
  {
   "cell_type": "markdown",
   "metadata": {
    "id": "AX1HKoALfFXS"
   },
   "source": [
    "Now we download tiny imagenet dataset. The cell below will create a directory called \"tiny-imagenet-200\" containing the dataset."
   ]
  },
  {
   "cell_type": "code",
   "execution_count": 6,
   "metadata": {
    "executionInfo": {
     "elapsed": 100958,
     "status": "ok",
     "timestamp": 1756051841679,
     "user": {
      "displayName": "Yang Zhou",
      "userId": "09717432835810465973"
     },
     "user_tz": 240
    },
    "id": "3uz63y5IdKYb"
   },
   "outputs": [],
   "source": [
    "if not LOCAL:\n",
    "    !wget -q http://cs231n.stanford.edu/tiny-imagenet-200.zip\n",
    "    !unzip -q tiny-imagenet-200.zip"
   ]
  },
  {
   "cell_type": "markdown",
   "metadata": {
    "id": "c3HW7EYqfgA8"
   },
   "source": [
    "We now copy pre-computed index for the train/ folder, 90% for training, 10% for validation. The val/ folder will be used as test set."
   ]
  },
  {
   "cell_type": "code",
   "execution_count": 7,
   "metadata": {
    "executionInfo": {
     "elapsed": 33,
     "status": "ok",
     "timestamp": 1756051841715,
     "user": {
      "displayName": "Yang Zhou",
      "userId": "09717432835810465973"
     },
     "user_tz": 240
    },
    "id": "BOwhtbZZdOFf"
   },
   "outputs": [],
   "source": [
    "if not LOCAL:\n",
    "    !cp $CODE_DIR/dataset/tiny_imagenet_train_val_indices.npy /content/tiny_imagenet_train_val_indices.npy"
   ]
  },
  {
   "cell_type": "markdown",
   "metadata": {
    "id": "B8bVSnvX9G-4"
   },
   "source": [
    "Python Requirements for fine-tuning clip on tinyImageNet"
   ]
  },
  {
   "cell_type": "code",
   "execution_count": 8,
   "metadata": {
    "colab": {
     "base_uri": "https://localhost:8080/"
    },
    "executionInfo": {
     "elapsed": 18766,
     "status": "ok",
     "timestamp": 1756051860490,
     "user": {
      "displayName": "Yang Zhou",
      "userId": "09717432835810465973"
     },
     "user_tz": 240
    },
    "id": "LWGC1rvTR4tH",
    "outputId": "450146f1-9ce5-41cf-e11c-9fec4fd0771c"
   },
   "outputs": [],
   "source": [
    "if not LOCAL:\n",
    "    !pip install --quiet --upgrade pip\n",
    "    !pip install -q -r clip_TinyImageNet/requirements.txt\n",
    "    print(\"✅ Core packages installed!\")"
   ]
  },
  {
   "cell_type": "markdown",
   "metadata": {},
   "source": [
    "Device Info\n"
   ]
  },
  {
   "cell_type": "code",
   "execution_count": 9,
   "metadata": {
    "colab": {
     "base_uri": "https://localhost:8080/"
    },
    "executionInfo": {
     "elapsed": 5308,
     "status": "ok",
     "timestamp": 1756051865800,
     "user": {
      "displayName": "Yang Zhou",
      "userId": "09717432835810465973"
     },
     "user_tz": 240
    },
    "id": "oe6uZ6LzR4tH",
    "outputId": "63ef4191-13f6-4153-ed4c-cb7168fb7f86"
   },
   "outputs": [
    {
     "name": "stdout",
     "output_type": "stream",
     "text": [
      "🔍 System Information:\n",
      "Python version: Python 3.11.5\n",
      "PyTorch version: 2.8.0\n",
      "CUDA available: False\n",
      "❌ No GPU available! Please enable GPU runtime in Colab.\n",
      "Runtime > Change runtime type > Hardware accelerator > GPU\n"
     ]
    }
   ],
   "source": [
    "import torch\n",
    "import subprocess\n",
    "\n",
    "print(\"🔍 System Information:\")\n",
    "print(f\"Python version: {subprocess.check_output(['python', '--version']).decode().strip()}\")\n",
    "print(f\"PyTorch version: {torch.__version__}\")\n",
    "print(f\"CUDA available: {torch.cuda.is_available()}\")\n",
    "\n",
    "if torch.cuda.is_available():\n",
    "    print(f\"GPU deivce: {torch.cuda.get_device_name(0)}\")\n",
    "    print(f\"GPU memory: {torch.cuda.get_device_properties(0).total_memory / 1e9:.1f} GB\")\n",
    "    print(f\"CUDA version: {torch.version.cuda}\")\n",
    "else:\n",
    "    print(\"❌ No GPU available! Please enable GPU runtime in Colab.\")\n",
    "    print(\"Runtime > Change runtime type > Hardware accelerator > GPU\")\n",
    "\n",
    "DEVICE = 'cuda' if torch.cuda.is_available() else 'cpu'"
   ]
  },
  {
   "cell_type": "code",
   "execution_count": null,
   "metadata": {
    "executionInfo": {
     "elapsed": 7,
     "status": "ok",
     "timestamp": 1756051865820,
     "user": {
      "displayName": "Yang Zhou",
      "userId": "09717432835810465973"
     },
     "user_tz": 240
    },
    "id": "QBl3z7po9G-4"
   },
   "outputs": [],
   "source": []
  },
  {
   "cell_type": "markdown",
   "metadata": {
    "id": "4j3zhX-GkTwZ"
   },
   "source": [
    "## Load Models and Dataset\n",
    "Load several models (different fine-tunes), at various epochs"
   ]
  },
  {
   "cell_type": "code",
   "execution_count": 10,
   "metadata": {
    "executionInfo": {
     "elapsed": 213,
     "status": "ok",
     "timestamp": 1756051878622,
     "user": {
      "displayName": "Yang Zhou",
      "userId": "09717432835810465973"
     },
     "user_tz": 240
    },
    "id": "ZS_iRE5Ju4y4"
   },
   "outputs": [],
   "source": [
    "import torch\n",
    "import clip\n",
    "import numpy as np\n",
    "import pandas as pd\n",
    "import matplotlib.pyplot as plt\n",
    "import os\n",
    "import math\n",
    "from tqdm.notebook import tqdm\n",
    "from utils import ModelWrapper,get_model_from_sd, eval_model_on_dataset"
   ]
  },
  {
   "cell_type": "code",
   "execution_count": 11,
   "metadata": {
    "colab": {
     "base_uri": "https://localhost:8080/"
    },
    "executionInfo": {
     "elapsed": 63041,
     "status": "ok",
     "timestamp": 1756051989346,
     "user": {
      "displayName": "Yang Zhou",
      "userId": "09717432835810465973"
     },
     "user_tz": 240
    },
    "id": "yNUi-YrmR4tJ",
    "outputId": "e7ac8d53-8c84-4f6d-c353-a3452c725572"
   },
   "outputs": [
    {
     "name": "stdout",
     "output_type": "stream",
     "text": [
      "Loading checkpoints/config3_6.pt (local)\n",
      "Loading checkpoints/config4_6.pt (local)\n",
      "Loading checkpoints/config5_9.pt (local)\n",
      "✅ Loaded 3 model_sds successfully!\n"
     ]
    }
   ],
   "source": [
    "# Load all trained model_sds\n",
    "\n",
    "Model_names = ['config1', 'config2', 'config3', 'config4', 'config5']\n",
    "Model_sds = []\n",
    "checkpoint_steps = range(0, 11, 1)\n",
    "\n",
    "Base_model, preprocess = clip.load('ViT-B/32', DEVICE, jit=False)\n",
    "Base_model = Base_model.float() # Force the base model to stay in float32 to match saved weights\n",
    "\n",
    "for name in Model_names:\n",
    "    for checkpoint_step in checkpoint_steps:\n",
    "\n",
    "        model_path = f'checkpoints/{name}_{checkpoint_step}.pt'\n",
    "        drive_path = f'/content/drive/MyDrive/Colab Notebooks/{model_path}'\n",
    "\n",
    "        # Try local first, then Drive backup\n",
    "        sd = None\n",
    "        if os.path.exists(model_path):\n",
    "            print(f'Loading {model_path} (local)')\n",
    "            sd = torch.load(model_path, map_location=DEVICE)\n",
    "        elif os.path.exists(drive_path):\n",
    "            print(f'Loading {drive_path} (from Drive)')\n",
    "            sd = torch.load(drive_path, map_location=DEVICE)\n",
    "        \n",
    "        if sd:\n",
    "            Model_sds.append({\n",
    "                'name': name,\n",
    "                'epoch': checkpoint_step,\n",
    "                'state_dict': sd\n",
    "            })\n",
    "\n",
    "print(f\"✅ Loaded {len(Model_sds)} model_sds successfully!\")"
   ]
  },
  {
   "cell_type": "code",
   "execution_count": null,
   "metadata": {},
   "outputs": [
    {
     "name": "stdout",
     "output_type": "stream",
     "text": [
      "Creating datasets...\n",
      "🧪 Using a subset of the test data for local run: 500 samples.\n"
     ]
    }
   ],
   "source": [
    "print(\"Creating datasets...\")\n",
    "\n",
    "from dataset.tiny_imagenet import TinyImageNet\n",
    "from torch.utils.data import Subset\n",
    "\n",
    "# Use CLIP's expected preprocessing for proper model evaluation\n",
    "import clip\n",
    "clip_preprocess = clip.load('ViT-B/32', DEVICE, jit=False)[1]\n",
    "\n",
    "data_tinyImageNet = TinyImageNet(\n",
    "    train_preprocess=clip_preprocess,  # Use CLIP preprocessing for training\n",
    "    eval_preprocess=clip_preprocess,   # Use CLIP preprocessing for evaluation\n",
    "    location=DATA_DIR,\n",
    "    batch_size=32,\n",
    "    num_workers=2,\n",
    "    distributed=False,\n",
    ")\n",
    "\n",
    "# For local testing, let's use a small subset of the test data\n",
    "if LOCAL:\n",
    "    subset_fraction = 0.05 # Use 5% of the test data\n",
    "    num_samples = int(len(data_tinyImageNet.test_dataset) * subset_fraction)\n",
    "    subset_indices = list(range(num_samples))\n",
    "    test_subset = Subset(data_tinyImageNet.test_dataset, subset_indices)\n",
    "    \n",
    "    Test_loader = torch.utils.data.DataLoader(\n",
    "        test_subset,\n",
    "        batch_size=data_tinyImageNet.batch_size,\n",
    "        num_workers=data_tinyImageNet.num_workers\n",
    "    )\n",
    "    print(f\"🧪 Using a subset of the test data for local run: {len(test_subset)} samples.\")\n",
    "else:\n",
    "    Test_loader = data_tinyImageNet.test_loader\n",
    "    print(\"✅ Using the full test dataset.\")\n"
   ]
  },
  {
   "cell_type": "markdown",
   "metadata": {},
   "source": [
    "## Parameter space distance - pairs of models"
   ]
  },
  {
   "cell_type": "markdown",
   "metadata": {},
   "source": [
    "Pairs: At any two config, each at any epoch, "
   ]
  },
  {
   "cell_type": "markdown",
   "metadata": {},
   "source": [
    "Compute L2 distance, over all pairs of models"
   ]
  },
  {
   "cell_type": "code",
   "execution_count": 13,
   "metadata": {},
   "outputs": [
    {
     "name": "stdout",
     "output_type": "stream",
     "text": [
      "🔍 Analyzing 3 models\n",
      "Total parameter groups: 160\n",
      "Classification head parameter groups: 2\n",
      "Backbone parameter groups: 158\n",
      "❌ Some backbone parameters differ between models.\n",
      "✅ DataFrame with L2 distances created.\n"
     ]
    },
    {
     "data": {
      "application/vnd.microsoft.datawrangler.viewer.v0+json": {
       "columns": [
        {
         "name": "index",
         "rawType": "int64",
         "type": "integer"
        },
        {
         "name": "model1_name",
         "rawType": "object",
         "type": "string"
        },
        {
         "name": "model1_epoch",
         "rawType": "int64",
         "type": "integer"
        },
        {
         "name": "model2_name",
         "rawType": "object",
         "type": "string"
        },
        {
         "name": "model2_epoch",
         "rawType": "int64",
         "type": "integer"
        },
        {
         "name": "l2_distance",
         "rawType": "float64",
         "type": "float"
        }
       ],
       "ref": "dc99f8a8-fe35-4140-ae0c-5ca2c72001d7",
       "rows": [
        [
         "0",
         "config3",
         "6",
         "config4",
         "6",
         "6.2661051750183105"
        ],
        [
         "1",
         "config3",
         "6",
         "config5",
         "9",
         "1.0974868535995483"
        ],
        [
         "2",
         "config4",
         "6",
         "config5",
         "9",
         "6.281423091888428"
        ]
       ],
       "shape": {
        "columns": 5,
        "rows": 3
       }
      },
      "text/html": [
       "<div>\n",
       "<style scoped>\n",
       "    .dataframe tbody tr th:only-of-type {\n",
       "        vertical-align: middle;\n",
       "    }\n",
       "\n",
       "    .dataframe tbody tr th {\n",
       "        vertical-align: top;\n",
       "    }\n",
       "\n",
       "    .dataframe thead th {\n",
       "        text-align: right;\n",
       "    }\n",
       "</style>\n",
       "<table border=\"1\" class=\"dataframe\">\n",
       "  <thead>\n",
       "    <tr style=\"text-align: right;\">\n",
       "      <th></th>\n",
       "      <th>model1_name</th>\n",
       "      <th>model1_epoch</th>\n",
       "      <th>model2_name</th>\n",
       "      <th>model2_epoch</th>\n",
       "      <th>l2_distance</th>\n",
       "    </tr>\n",
       "  </thead>\n",
       "  <tbody>\n",
       "    <tr>\n",
       "      <th>0</th>\n",
       "      <td>config3</td>\n",
       "      <td>6</td>\n",
       "      <td>config4</td>\n",
       "      <td>6</td>\n",
       "      <td>6.266105</td>\n",
       "    </tr>\n",
       "    <tr>\n",
       "      <th>1</th>\n",
       "      <td>config3</td>\n",
       "      <td>6</td>\n",
       "      <td>config5</td>\n",
       "      <td>9</td>\n",
       "      <td>1.097487</td>\n",
       "    </tr>\n",
       "    <tr>\n",
       "      <th>2</th>\n",
       "      <td>config4</td>\n",
       "      <td>6</td>\n",
       "      <td>config5</td>\n",
       "      <td>9</td>\n",
       "      <td>6.281423</td>\n",
       "    </tr>\n",
       "  </tbody>\n",
       "</table>\n",
       "</div>"
      ],
      "text/plain": [
       "  model1_name  model1_epoch model2_name  model2_epoch  l2_distance\n",
       "0     config3             6     config4             6     6.266105\n",
       "1     config3             6     config5             9     1.097487\n",
       "2     config4             6     config5             9     6.281423"
      ]
     },
     "execution_count": 13,
     "metadata": {},
     "output_type": "execute_result"
    }
   ],
   "source": [
    "n_models = len(Model_sds)\n",
    "print(f\"🔍 Analyzing {n_models} models\")\n",
    "\n",
    "# Get all parameter group names from first model\n",
    "param_names = list(Model_sds[0]['state_dict'].keys())\n",
    "print(f\"Total parameter groups: {len(param_names)}\")\n",
    "\n",
    "# Separate classification head vs backbone parameters\n",
    "head_params = [k for k in param_names if k.startswith('classification_head')]\n",
    "backbone_params = [k for k in param_names if not k.startswith('classification_head')]\n",
    "\n",
    "print(f\"Classification head parameter groups: {len(head_params)}\")\n",
    "print(f\"Backbone parameter groups: {len(backbone_params)}\")\n",
    "\n",
    "# Check if backbone parameters are identical\n",
    "backbone_identical = True\n",
    "for param_name in backbone_params:\n",
    "    ref_param = Model_sds[0]['state_dict'][param_name]\n",
    "    for i in range(1, n_models):\n",
    "        if not torch.allclose(ref_param, Model_sds[i]['state_dict'][param_name], atol=1e-6):\n",
    "            # print(f\"❌ {param_name} differs between model 0 and model {i}\")\n",
    "            backbone_identical = False\n",
    "            break\n",
    "\n",
    "if backbone_identical:\n",
    "    print(\"✅ All backbone parameters are identical across models!\")\n",
    "else:\n",
    "    print(\"❌ Some backbone parameters differ between models.\")\n",
    "\n",
    "records = []\n",
    "\n",
    "for i in range(n_models):\n",
    "    for j in range(i + 1, n_models):\n",
    "        model_i = Model_sds[i]\n",
    "        model_j = Model_sds[j]\n",
    "\n",
    "        # Flatten and concatenate all parameters\n",
    "        params_i = torch.cat([p.flatten() for p in model_i['state_dict'].values()])\n",
    "        params_j = torch.cat([p.flatten() for p in model_j['state_dict'].values()])\n",
    "\n",
    "        # Compute L2 distance\n",
    "        l2_dist = torch.norm(params_i - params_j).item()\n",
    "\n",
    "        records.append({\n",
    "            'model1_name': model_i['name'],\n",
    "            'model1_epoch': model_i['epoch'],\n",
    "            'model2_name': model_j['name'],\n",
    "            'model2_epoch': model_j['epoch'],\n",
    "            'l2_distance': l2_dist,\n",
    "        })\n",
    "\n",
    "# Create DataFrame\n",
    "df_results = pd.DataFrame(records)\n",
    "print(\"✅ DataFrame with L2 distances created.\")\n",
    "df_results.head()"
   ]
  },
  {
   "cell_type": "code",
   "execution_count": null,
   "metadata": {},
   "outputs": [],
   "source": []
  },
  {
   "cell_type": "markdown",
   "metadata": {},
   "source": [
    "### Plot: distance(epoch)\n",
    "L2 distance between any two different models at same epoch during training."
   ]
  },
  {
   "cell_type": "code",
   "execution_count": 14,
   "metadata": {},
   "outputs": [
    {
     "data": {
      "image/png": "[encoded data removed]",
      "text/plain": [
       "<Figure size 1200x800 with 1 Axes>"
      ]
     },
     "metadata": {},
     "output_type": "display_data"
    }
   ],
   "source": [
    "import seaborn as sns\n",
    "import matplotlib.pyplot as plt\n",
    "\n",
    "# Filter for pairs of different models at the same epoch\n",
    "same_epoch_df = df_results[df_results['model1_epoch'] == df_results['model2_epoch']].copy()\n",
    "same_epoch_df['model_pair'] = same_epoch_df.apply(lambda r: f\"{r['model1_name']} vs {r['model2_name']}\", axis=1)\n",
    "\n",
    "# Create the plot\n",
    "plt.style.use('seaborn-v0_8-whitegrid')\n",
    "fig, ax = plt.subplots(figsize=(12, 8))\n",
    "\n",
    "sns.lineplot(\n",
    "    data=same_epoch_df,\n",
    "    x='model1_epoch',\n",
    "    y='l2_distance',\n",
    "    hue='model_pair',\n",
    "    marker='o',\n",
    "    ax=ax\n",
    ")\n",
    "\n",
    "ax.set_title('L2 Distance Between Model Pairs at Each Epoch', fontsize=16)\n",
    "ax.set_xlabel('Epoch', fontsize=12)\n",
    "ax.set_ylabel('L2 Distance', fontsize=12)\n",
    "ax.legend(title='Model Pairs', bbox_to_anchor=(1.05, 1), loc='upper left')\n",
    "ax.grid(True)\n",
    "\n",
    "plt.tight_layout()\n",
    "plt.show()"
   ]
  },
  {
   "cell_type": "markdown",
   "metadata": {},
   "source": [
    "## Model soup performance (on test split) -  pairs of models"
   ]
  },
  {
   "cell_type": "code",
   "execution_count": null,
   "metadata": {},
   "outputs": [],
   "source": []
  },
  {
   "cell_type": "markdown",
   "metadata": {},
   "source": [
    "### Individual Model Performance"
   ]
  },
  {
   "cell_type": "code",
   "execution_count": 15,
   "metadata": {},
   "outputs": [
    {
     "data": {
      "application/vnd.jupyter.widget-view+json": {
       "model_id": "2748190000754395b052d21d52f104a8",
       "version_major": 2,
       "version_minor": 0
      },
      "text/plain": [
       "Evaluating Individual Models:   0%|          | 0/3 [00:00<?, ?it/s]"
      ]
     },
     "metadata": {},
     "output_type": "display_data"
    },
    {
     "name": "stdout",
     "output_type": "stream",
     "text": [
      "[0% 0/8]\tAcc: 73.44\tData (t) 2.625\tBatch (t) 3.353\n",
      "[0% 0/8]\tAcc: 79.69\tData (t) 2.381\tBatch (t) 3.000\n",
      "[0% 0/8]\tAcc: 73.44\tData (t) 2.385\tBatch (t) 3.024\n",
      "✅ Individual model accuracies calculated.\n"
     ]
    },
    {
     "data": {
      "application/vnd.microsoft.datawrangler.viewer.v0+json": {
       "columns": [
        {
         "name": "index",
         "rawType": "int64",
         "type": "integer"
        },
        {
         "name": "name",
         "rawType": "object",
         "type": "string"
        },
        {
         "name": "epoch",
         "rawType": "int64",
         "type": "integer"
        },
        {
         "name": "accuracy",
         "rawType": "float64",
         "type": "float"
        }
       ],
       "ref": "178a0406-3832-4361-9a28-78da811acf6e",
       "rows": [
        [
         "0",
         "config3",
         "6",
         "0.78"
        ],
        [
         "1",
         "config4",
         "6",
         "0.808"
        ],
        [
         "2",
         "config5",
         "9",
         "0.75"
        ]
       ],
       "shape": {
        "columns": 3,
        "rows": 3
       }
      },
      "text/html": [
       "<div>\n",
       "<style scoped>\n",
       "    .dataframe tbody tr th:only-of-type {\n",
       "        vertical-align: middle;\n",
       "    }\n",
       "\n",
       "    .dataframe tbody tr th {\n",
       "        vertical-align: top;\n",
       "    }\n",
       "\n",
       "    .dataframe thead th {\n",
       "        text-align: right;\n",
       "    }\n",
       "</style>\n",
       "<table border=\"1\" class=\"dataframe\">\n",
       "  <thead>\n",
       "    <tr style=\"text-align: right;\">\n",
       "      <th></th>\n",
       "      <th>name</th>\n",
       "      <th>epoch</th>\n",
       "      <th>accuracy</th>\n",
       "    </tr>\n",
       "  </thead>\n",
       "  <tbody>\n",
       "    <tr>\n",
       "      <th>0</th>\n",
       "      <td>config3</td>\n",
       "      <td>6</td>\n",
       "      <td>0.780</td>\n",
       "    </tr>\n",
       "    <tr>\n",
       "      <th>1</th>\n",
       "      <td>config4</td>\n",
       "      <td>6</td>\n",
       "      <td>0.808</td>\n",
       "    </tr>\n",
       "    <tr>\n",
       "      <th>2</th>\n",
       "      <td>config5</td>\n",
       "      <td>9</td>\n",
       "      <td>0.750</td>\n",
       "    </tr>\n",
       "  </tbody>\n",
       "</table>\n",
       "</div>"
      ],
      "text/plain": [
       "      name  epoch  accuracy\n",
       "0  config3      6     0.780\n",
       "1  config4      6     0.808\n",
       "2  config5      9     0.750"
      ]
     },
     "execution_count": 15,
     "metadata": {},
     "output_type": "execute_result"
    }
   ],
   "source": [
    "# Evaluate each individual model at each epoch. \n",
    "individual_accuracies = []\n",
    "for model_info in tqdm(Model_sds, desc=\"Evaluating Individual Models\"):\n",
    "    model = get_model_from_sd(model_info['state_dict'], Base_model)\n",
    "    acc = eval_model_on_dataset(model, Test_loader)\n",
    "    individual_accuracies.append({\n",
    "        'name': model_info['name'],\n",
    "        'epoch': model_info['epoch'],\n",
    "        'accuracy': acc\n",
    "    })\n",
    "\n",
    "df_individual_acc = pd.DataFrame(individual_accuracies)\n",
    "print(\"✅ Individual model accuracies calculated.\")\n",
    "df_individual_acc.head()\n",
    "\n"
   ]
  },
  {
   "cell_type": "code",
   "execution_count": 18,
   "metadata": {},
   "outputs": [
    {
     "name": "stdout",
     "output_type": "stream",
     "text": [
      "✅ Individual accuracies merged and mean accuracy calculated.\n"
     ]
    },
    {
     "data": {
      "application/vnd.microsoft.datawrangler.viewer.v0+json": {
       "columns": [
        {
         "name": "index",
         "rawType": "int64",
         "type": "integer"
        },
        {
         "name": "model1_name",
         "rawType": "object",
         "type": "string"
        },
        {
         "name": "model1_epoch",
         "rawType": "int64",
         "type": "integer"
        },
        {
         "name": "model2_name",
         "rawType": "object",
         "type": "string"
        },
        {
         "name": "model2_epoch",
         "rawType": "int64",
         "type": "integer"
        },
        {
         "name": "l2_distance",
         "rawType": "float64",
         "type": "float"
        },
        {
         "name": "soup_accuracy",
         "rawType": "float64",
         "type": "float"
        },
        {
         "name": "model1_accuracy",
         "rawType": "float64",
         "type": "float"
        },
        {
         "name": "model2_accuracy",
         "rawType": "float64",
         "type": "float"
        },
        {
         "name": "mean_accuracy",
         "rawType": "float64",
         "type": "float"
        }
       ],
       "ref": "3b927c37-db29-4991-8484-ddd21e58dcb0",
       "rows": [
        [
         "0",
         "config3",
         "6",
         "config4",
         "6",
         "6.2661051750183105",
         "0.808",
         "0.78",
         "0.808",
         "0.794"
        ],
        [
         "1",
         "config3",
         "6",
         "config5",
         "9",
         "1.0974868535995483",
         "0.778",
         "0.78",
         "0.75",
         "0.765"
        ],
        [
         "2",
         "config4",
         "6",
         "config5",
         "9",
         "6.281423091888428",
         "0.802",
         "0.808",
         "0.75",
         "0.779"
        ]
       ],
       "shape": {
        "columns": 9,
        "rows": 3
       }
      },
      "text/html": [
       "<div>\n",
       "<style scoped>\n",
       "    .dataframe tbody tr th:only-of-type {\n",
       "        vertical-align: middle;\n",
       "    }\n",
       "\n",
       "    .dataframe tbody tr th {\n",
       "        vertical-align: top;\n",
       "    }\n",
       "\n",
       "    .dataframe thead th {\n",
       "        text-align: right;\n",
       "    }\n",
       "</style>\n",
       "<table border=\"1\" class=\"dataframe\">\n",
       "  <thead>\n",
       "    <tr style=\"text-align: right;\">\n",
       "      <th></th>\n",
       "      <th>model1_name</th>\n",
       "      <th>model1_epoch</th>\n",
       "      <th>model2_name</th>\n",
       "      <th>model2_epoch</th>\n",
       "      <th>l2_distance</th>\n",
       "      <th>soup_accuracy</th>\n",
       "      <th>model1_accuracy</th>\n",
       "      <th>model2_accuracy</th>\n",
       "      <th>mean_accuracy</th>\n",
       "    </tr>\n",
       "  </thead>\n",
       "  <tbody>\n",
       "    <tr>\n",
       "      <th>0</th>\n",
       "      <td>config3</td>\n",
       "      <td>6</td>\n",
       "      <td>config4</td>\n",
       "      <td>6</td>\n",
       "      <td>6.266105</td>\n",
       "      <td>0.808</td>\n",
       "      <td>0.780</td>\n",
       "      <td>0.808</td>\n",
       "      <td>0.794</td>\n",
       "    </tr>\n",
       "    <tr>\n",
       "      <th>1</th>\n",
       "      <td>config3</td>\n",
       "      <td>6</td>\n",
       "      <td>config5</td>\n",
       "      <td>9</td>\n",
       "      <td>1.097487</td>\n",
       "      <td>0.778</td>\n",
       "      <td>0.780</td>\n",
       "      <td>0.750</td>\n",
       "      <td>0.765</td>\n",
       "    </tr>\n",
       "    <tr>\n",
       "      <th>2</th>\n",
       "      <td>config4</td>\n",
       "      <td>6</td>\n",
       "      <td>config5</td>\n",
       "      <td>9</td>\n",
       "      <td>6.281423</td>\n",
       "      <td>0.802</td>\n",
       "      <td>0.808</td>\n",
       "      <td>0.750</td>\n",
       "      <td>0.779</td>\n",
       "    </tr>\n",
       "  </tbody>\n",
       "</table>\n",
       "</div>"
      ],
      "text/plain": [
       "  model1_name  model1_epoch model2_name  model2_epoch  l2_distance  \\\n",
       "0     config3             6     config4             6     6.266105   \n",
       "1     config3             6     config5             9     1.097487   \n",
       "2     config4             6     config5             9     6.281423   \n",
       "\n",
       "   soup_accuracy  model1_accuracy  model2_accuracy  mean_accuracy  \n",
       "0          0.808            0.780            0.808          0.794  \n",
       "1          0.778            0.780            0.750          0.765  \n",
       "2          0.802            0.808            0.750          0.779  "
      ]
     },
     "execution_count": 18,
     "metadata": {},
     "output_type": "execute_result"
    }
   ],
   "source": [
    "# Merge individual accuracies into the main DataFrame\n",
    "df_results = df_results.merge(\n",
    "    df_individual_acc,\n",
    "    left_on=['model1_name', 'model1_epoch'],\n",
    "    right_on=['name', 'epoch']\n",
    ").rename(columns={'accuracy': 'model1_accuracy'}).drop(columns=['name', 'epoch'])\n",
    "\n",
    "df_results = df_results.merge(\n",
    "    df_individual_acc,\n",
    "    left_on=['model2_name', 'model2_epoch'],\n",
    "    right_on=['name', 'epoch']\n",
    ").rename(columns={'accuracy': 'model2_accuracy'}).drop(columns=['name', 'epoch'])\n",
    "\n",
    "# Calculate mean accuracy\n",
    "df_results['mean_accuracy'] = (df_results['model1_accuracy'] + df_results['model2_accuracy']) / 2\n",
    "print(\"✅ Individual accuracies merged and mean accuracy calculated.\")\n",
    "df_results.head()"
   ]
  },
  {
   "cell_type": "markdown",
   "metadata": {},
   "source": [
    "Compute soup accuracy for each pair"
   ]
  },
  {
   "cell_type": "code",
   "execution_count": 19,
   "metadata": {},
   "outputs": [],
   "source": [
    "def create_soup(state_dicts, weights=None):\n",
    "    \"\"\"Create a model soup by averaging state dicts with given weights\"\"\"\n",
    "    if weights is None:\n",
    "        weights = [1.0 / len(state_dicts)] * len(state_dicts)\n",
    "\n",
    "    # Start with the first model weighted\n",
    "    soup_state_dict = {k: v.clone() * weights[0] for k, v in state_dicts[0].items()}\n",
    "\n",
    "    # Add remaining models\n",
    "    for i, state_dict in enumerate(state_dicts[1:], 1):\n",
    "        for k, v in state_dict.items():\n",
    "            soup_state_dict[k] += v.clone() * weights[i]\n",
    "\n",
    "    return soup_state_dict\n"
   ]
  },
  {
   "cell_type": "code",
   "execution_count": null,
   "metadata": {},
   "outputs": [
    {
     "data": {
      "application/vnd.jupyter.widget-view+json": {
       "model_id": "6af4e6e02b0a46708fb15e6875a6fe14",
       "version_major": 2,
       "version_minor": 0
      },
      "text/plain": [
       "Evaluating Soups:   0%|          | 0/3 [00:00<?, ?it/s]"
      ]
     },
     "metadata": {},
     "output_type": "display_data"
    },
    {
     "name": "stdout",
     "output_type": "stream",
     "text": [
      "[0% 0/8]\tAcc: 76.56\tData (t) 2.705\tBatch (t) 3.500\n",
      "[0% 0/8]\tAcc: 75.00\tData (t) 2.319\tBatch (t) 2.947\n",
      "[0% 0/8]\tAcc: 76.56\tData (t) 3.582\tBatch (t) 4.652\n"
     ]
    },
    {
     "ename": "KeyError",
     "evalue": "'mean_accuracy'",
     "output_type": "error",
     "traceback": [
      "\u001b[31m---------------------------------------------------------------------------\u001b[39m",
      "\u001b[31mKeyError\u001b[39m                                  Traceback (most recent call last)",
      "\u001b[36mFile \u001b[39m\u001b[32m~/Desktop/model-merge/model-soups/clip_TinyImageNet/.venv/lib/python3.11/site-packages/pandas/core/indexes/base.py:3812\u001b[39m, in \u001b[36mIndex.get_loc\u001b[39m\u001b[34m(self, key)\u001b[39m\n\u001b[32m   3811\u001b[39m \u001b[38;5;28;01mtry\u001b[39;00m:\n\u001b[32m-> \u001b[39m\u001b[32m3812\u001b[39m     \u001b[38;5;28;01mreturn\u001b[39;00m \u001b[38;5;28;43mself\u001b[39;49m\u001b[43m.\u001b[49m\u001b[43m_engine\u001b[49m\u001b[43m.\u001b[49m\u001b[43mget_loc\u001b[49m\u001b[43m(\u001b[49m\u001b[43mcasted_key\u001b[49m\u001b[43m)\u001b[49m\n\u001b[32m   3813\u001b[39m \u001b[38;5;28;01mexcept\u001b[39;00m \u001b[38;5;167;01mKeyError\u001b[39;00m \u001b[38;5;28;01mas\u001b[39;00m err:\n",
      "\u001b[36mFile \u001b[39m\u001b[32mpandas/_libs/index.pyx:167\u001b[39m, in \u001b[36mpandas._libs.index.IndexEngine.get_loc\u001b[39m\u001b[34m()\u001b[39m\n",
      "\u001b[36mFile \u001b[39m\u001b[32mpandas/_libs/index.pyx:196\u001b[39m, in \u001b[36mpandas._libs.index.IndexEngine.get_loc\u001b[39m\u001b[34m()\u001b[39m\n",
      "\u001b[36mFile \u001b[39m\u001b[32mpandas/_libs/hashtable_class_helper.pxi:7088\u001b[39m, in \u001b[36mpandas._libs.hashtable.PyObjectHashTable.get_item\u001b[39m\u001b[34m()\u001b[39m\n",
      "\u001b[36mFile \u001b[39m\u001b[32mpandas/_libs/hashtable_class_helper.pxi:7096\u001b[39m, in \u001b[36mpandas._libs.hashtable.PyObjectHashTable.get_item\u001b[39m\u001b[34m()\u001b[39m\n",
      "\u001b[31mKeyError\u001b[39m: 'mean_accuracy'",
      "\nThe above exception was the direct cause of the following exception:\n",
      "\u001b[31mKeyError\u001b[39m                                  Traceback (most recent call last)",
      "\u001b[36mCell\u001b[39m\u001b[36m \u001b[39m\u001b[32mIn[17]\u001b[39m\u001b[32m, line 19\u001b[39m\n\u001b[32m     16\u001b[39m df_results[\u001b[33m'\u001b[39m\u001b[33msoup_accuracy\u001b[39m\u001b[33m'\u001b[39m] = soup_accuracies\n\u001b[32m     18\u001b[39m \u001b[38;5;66;03m# Calculate mean accuracy and soup improvement\u001b[39;00m\n\u001b[32m---> \u001b[39m\u001b[32m19\u001b[39m df_results[\u001b[33m'\u001b[39m\u001b[33msoup_improvement\u001b[39m\u001b[33m'\u001b[39m] = df_results[\u001b[33m'\u001b[39m\u001b[33msoup_accuracy\u001b[39m\u001b[33m'\u001b[39m] - \u001b[43mdf_results\u001b[49m\u001b[43m[\u001b[49m\u001b[33;43m'\u001b[39;49m\u001b[33;43mmean_accuracy\u001b[39;49m\u001b[33;43m'\u001b[39;49m\u001b[43m]\u001b[49m\n\u001b[32m     21\u001b[39m \u001b[38;5;28mprint\u001b[39m(\u001b[33m\"\u001b[39m\u001b[33m✅ Soup accuracies calculated and added to DataFrame.\u001b[39m\u001b[33m\"\u001b[39m)\n\u001b[32m     22\u001b[39m df_results.head()\n",
      "\u001b[36mFile \u001b[39m\u001b[32m~/Desktop/model-merge/model-soups/clip_TinyImageNet/.venv/lib/python3.11/site-packages/pandas/core/frame.py:4107\u001b[39m, in \u001b[36mDataFrame.__getitem__\u001b[39m\u001b[34m(self, key)\u001b[39m\n\u001b[32m   4105\u001b[39m \u001b[38;5;28;01mif\u001b[39;00m \u001b[38;5;28mself\u001b[39m.columns.nlevels > \u001b[32m1\u001b[39m:\n\u001b[32m   4106\u001b[39m     \u001b[38;5;28;01mreturn\u001b[39;00m \u001b[38;5;28mself\u001b[39m._getitem_multilevel(key)\n\u001b[32m-> \u001b[39m\u001b[32m4107\u001b[39m indexer = \u001b[38;5;28;43mself\u001b[39;49m\u001b[43m.\u001b[49m\u001b[43mcolumns\u001b[49m\u001b[43m.\u001b[49m\u001b[43mget_loc\u001b[49m\u001b[43m(\u001b[49m\u001b[43mkey\u001b[49m\u001b[43m)\u001b[49m\n\u001b[32m   4108\u001b[39m \u001b[38;5;28;01mif\u001b[39;00m is_integer(indexer):\n\u001b[32m   4109\u001b[39m     indexer = [indexer]\n",
      "\u001b[36mFile \u001b[39m\u001b[32m~/Desktop/model-merge/model-soups/clip_TinyImageNet/.venv/lib/python3.11/site-packages/pandas/core/indexes/base.py:3819\u001b[39m, in \u001b[36mIndex.get_loc\u001b[39m\u001b[34m(self, key)\u001b[39m\n\u001b[32m   3814\u001b[39m     \u001b[38;5;28;01mif\u001b[39;00m \u001b[38;5;28misinstance\u001b[39m(casted_key, \u001b[38;5;28mslice\u001b[39m) \u001b[38;5;129;01mor\u001b[39;00m (\n\u001b[32m   3815\u001b[39m         \u001b[38;5;28misinstance\u001b[39m(casted_key, abc.Iterable)\n\u001b[32m   3816\u001b[39m         \u001b[38;5;129;01mand\u001b[39;00m \u001b[38;5;28many\u001b[39m(\u001b[38;5;28misinstance\u001b[39m(x, \u001b[38;5;28mslice\u001b[39m) \u001b[38;5;28;01mfor\u001b[39;00m x \u001b[38;5;129;01min\u001b[39;00m casted_key)\n\u001b[32m   3817\u001b[39m     ):\n\u001b[32m   3818\u001b[39m         \u001b[38;5;28;01mraise\u001b[39;00m InvalidIndexError(key)\n\u001b[32m-> \u001b[39m\u001b[32m3819\u001b[39m     \u001b[38;5;28;01mraise\u001b[39;00m \u001b[38;5;167;01mKeyError\u001b[39;00m(key) \u001b[38;5;28;01mfrom\u001b[39;00m\u001b[38;5;250m \u001b[39m\u001b[34;01merr\u001b[39;00m\n\u001b[32m   3820\u001b[39m \u001b[38;5;28;01mexcept\u001b[39;00m \u001b[38;5;167;01mTypeError\u001b[39;00m:\n\u001b[32m   3821\u001b[39m     \u001b[38;5;66;03m# If we have a listlike key, _check_indexing_error will raise\u001b[39;00m\n\u001b[32m   3822\u001b[39m     \u001b[38;5;66;03m#  InvalidIndexError. Otherwise we fall through and re-raise\u001b[39;00m\n\u001b[32m   3823\u001b[39m     \u001b[38;5;66;03m#  the TypeError.\u001b[39;00m\n\u001b[32m   3824\u001b[39m     \u001b[38;5;28mself\u001b[39m._check_indexing_error(key)\n",
      "\u001b[31mKeyError\u001b[39m: 'mean_accuracy'"
     ]
    }
   ],
   "source": [
    "\n",
    "soup_accuracies = []\n",
    "model_map = {(m['name'], m['epoch']): m['state_dict'] for m in Model_sds}\n",
    "\n",
    "for _, row in tqdm(df_results.iterrows(), total=len(df_results), desc=\"Evaluating Soups\"):\n",
    "    sd1 = model_map[(row['model1_name'], row['model1_epoch'])]\n",
    "    sd2 = model_map[(row['model2_name'], row['model2_epoch'])]\n",
    "    \n",
    "    # Create a soup model:  theta = 1/2(theta_i + theta_j)\n",
    "    soup_sd = create_soup([sd1, sd2])\n",
    "    \n",
    "    # Evaluate the soup on test split\n",
    "    soup_model = get_model_from_sd(soup_sd, Base_model)\n",
    "    acc = eval_model_on_dataset(soup_model, Test_loader)\n",
    "    soup_accuracies.append(acc)\n"
   ]
  },
  {
   "cell_type": "code",
   "execution_count": 20,
   "metadata": {},
   "outputs": [
    {
     "name": "stdout",
     "output_type": "stream",
     "text": [
      "✅ Soup accuracies calculated and added to DataFrame.\n"
     ]
    },
    {
     "data": {
      "application/vnd.microsoft.datawrangler.viewer.v0+json": {
       "columns": [
        {
         "name": "index",
         "rawType": "int64",
         "type": "integer"
        },
        {
         "name": "model1_name",
         "rawType": "object",
         "type": "string"
        },
        {
         "name": "model1_epoch",
         "rawType": "int64",
         "type": "integer"
        },
        {
         "name": "model2_name",
         "rawType": "object",
         "type": "string"
        },
        {
         "name": "model2_epoch",
         "rawType": "int64",
         "type": "integer"
        },
        {
         "name": "l2_distance",
         "rawType": "float64",
         "type": "float"
        },
        {
         "name": "soup_accuracy",
         "rawType": "float64",
         "type": "float"
        },
        {
         "name": "model1_accuracy",
         "rawType": "float64",
         "type": "float"
        },
        {
         "name": "model2_accuracy",
         "rawType": "float64",
         "type": "float"
        },
        {
         "name": "mean_accuracy",
         "rawType": "float64",
         "type": "float"
        },
        {
         "name": "soup_improvement",
         "rawType": "float64",
         "type": "float"
        }
       ],
       "ref": "1908e5a8-0da3-4748-ba02-39323d8e9f1e",
       "rows": [
        [
         "0",
         "config3",
         "6",
         "config4",
         "6",
         "6.2661051750183105",
         "0.808",
         "0.78",
         "0.808",
         "0.794",
         "0.014000000000000012"
        ],
        [
         "1",
         "config3",
         "6",
         "config5",
         "9",
         "1.0974868535995483",
         "0.778",
         "0.78",
         "0.75",
         "0.765",
         "0.013000000000000012"
        ],
        [
         "2",
         "config4",
         "6",
         "config5",
         "9",
         "6.281423091888428",
         "0.802",
         "0.808",
         "0.75",
         "0.779",
         "0.02300000000000002"
        ]
       ],
       "shape": {
        "columns": 10,
        "rows": 3
       }
      },
      "text/html": [
       "<div>\n",
       "<style scoped>\n",
       "    .dataframe tbody tr th:only-of-type {\n",
       "        vertical-align: middle;\n",
       "    }\n",
       "\n",
       "    .dataframe tbody tr th {\n",
       "        vertical-align: top;\n",
       "    }\n",
       "\n",
       "    .dataframe thead th {\n",
       "        text-align: right;\n",
       "    }\n",
       "</style>\n",
       "<table border=\"1\" class=\"dataframe\">\n",
       "  <thead>\n",
       "    <tr style=\"text-align: right;\">\n",
       "      <th></th>\n",
       "      <th>model1_name</th>\n",
       "      <th>model1_epoch</th>\n",
       "      <th>model2_name</th>\n",
       "      <th>model2_epoch</th>\n",
       "      <th>l2_distance</th>\n",
       "      <th>soup_accuracy</th>\n",
       "      <th>model1_accuracy</th>\n",
       "      <th>model2_accuracy</th>\n",
       "      <th>mean_accuracy</th>\n",
       "      <th>soup_improvement</th>\n",
       "    </tr>\n",
       "  </thead>\n",
       "  <tbody>\n",
       "    <tr>\n",
       "      <th>0</th>\n",
       "      <td>config3</td>\n",
       "      <td>6</td>\n",
       "      <td>config4</td>\n",
       "      <td>6</td>\n",
       "      <td>6.266105</td>\n",
       "      <td>0.808</td>\n",
       "      <td>0.780</td>\n",
       "      <td>0.808</td>\n",
       "      <td>0.794</td>\n",
       "      <td>0.014</td>\n",
       "    </tr>\n",
       "    <tr>\n",
       "      <th>1</th>\n",
       "      <td>config3</td>\n",
       "      <td>6</td>\n",
       "      <td>config5</td>\n",
       "      <td>9</td>\n",
       "      <td>1.097487</td>\n",
       "      <td>0.778</td>\n",
       "      <td>0.780</td>\n",
       "      <td>0.750</td>\n",
       "      <td>0.765</td>\n",
       "      <td>0.013</td>\n",
       "    </tr>\n",
       "    <tr>\n",
       "      <th>2</th>\n",
       "      <td>config4</td>\n",
       "      <td>6</td>\n",
       "      <td>config5</td>\n",
       "      <td>9</td>\n",
       "      <td>6.281423</td>\n",
       "      <td>0.802</td>\n",
       "      <td>0.808</td>\n",
       "      <td>0.750</td>\n",
       "      <td>0.779</td>\n",
       "      <td>0.023</td>\n",
       "    </tr>\n",
       "  </tbody>\n",
       "</table>\n",
       "</div>"
      ],
      "text/plain": [
       "  model1_name  model1_epoch model2_name  model2_epoch  l2_distance  \\\n",
       "0     config3             6     config4             6     6.266105   \n",
       "1     config3             6     config5             9     1.097487   \n",
       "2     config4             6     config5             9     6.281423   \n",
       "\n",
       "   soup_accuracy  model1_accuracy  model2_accuracy  mean_accuracy  \\\n",
       "0          0.808            0.780            0.808          0.794   \n",
       "1          0.778            0.780            0.750          0.765   \n",
       "2          0.802            0.808            0.750          0.779   \n",
       "\n",
       "   soup_improvement  \n",
       "0             0.014  \n",
       "1             0.013  \n",
       "2             0.023  "
      ]
     },
     "execution_count": 20,
     "metadata": {},
     "output_type": "execute_result"
    }
   ],
   "source": [
    "df_results['soup_accuracy'] = soup_accuracies\n",
    "\n",
    "# Calculate mean accuracy and soup improvement\n",
    "df_results['soup_improvement'] = df_results['soup_accuracy'] - df_results['mean_accuracy']\n",
    "\n",
    "print(\"✅ Soup accuracies calculated and added to DataFrame.\")\n",
    "df_results.head()"
   ]
  },
  {
   "cell_type": "markdown",
   "metadata": {},
   "source": [
    "### Plot: soup accuracy(epoch)\n",
    "soup accuracy for any two models at same epoch.\n",
    "\n",
    "soup improvement above mean of each model."
   ]
  },
  {
   "cell_type": "code",
   "execution_count": 21,
   "metadata": {},
   "outputs": [
    {
     "data": {
      "image/png": "[encoded data removed]",
      "text/plain": [
       "<Figure size 1200x800 with 1 Axes>"
      ]
     },
     "metadata": {},
     "output_type": "display_data"
    }
   ],
   "source": [
    "# Filter for pairs of different models at the same epoch\n",
    "same_epoch_df = df_results[df_results['model1_epoch'] == df_results['model2_epoch']].copy()\n",
    "same_epoch_df['model_pair'] = same_epoch_df.apply(lambda r: f\"{r['model1_name']} vs {r['model2_name']}\", axis=1)\n",
    "\n",
    "# Create the plot\n",
    "plt.style.use('seaborn-v0_8-whitegrid')\n",
    "fig, ax = plt.subplots(figsize=(12, 8))\n",
    "\n",
    "sns.lineplot(\n",
    "    data=same_epoch_df,\n",
    "    x='model1_epoch',\n",
    "    y='soup_accuracy',\n",
    "    hue='model_pair',\n",
    "    marker='o',\n",
    "    ax=ax\n",
    ")\n",
    "sns.lineplot(\n",
    "    data=same_epoch_df,\n",
    "    x='model1_epoch',\n",
    "    y='mean_accuracy',\n",
    "    hue='model_pair',\n",
    "    marker='x',\n",
    "    ax=ax\n",
    ")\n",
    "\n",
    "ax.set_title('Soup (o) and Mean (x) Accuracy of Model Pairs at Each Epoch', fontsize=16)\n",
    "ax.set_xlabel('Epoch', fontsize=12)\n",
    "ax.set_ylabel('Test Accuracy', fontsize=12)\n",
    "ax.legend(title='Model Pairs', bbox_to_anchor=(1.05, 1), loc='upper left')\n",
    "ax.grid(True)\n",
    "\n",
    "plt.tight_layout()\n",
    "plt.show()"
   ]
  },
  {
   "cell_type": "code",
   "execution_count": null,
   "metadata": {},
   "outputs": [],
   "source": []
  },
  {
   "cell_type": "markdown",
   "metadata": {},
   "source": [
    "## Relation between Soup performance and model L2 distance"
   ]
  },
  {
   "cell_type": "markdown",
   "metadata": {},
   "source": [
    "### Plot: soup improvement vs L2 distance"
   ]
  },
  {
   "cell_type": "code",
   "execution_count": 24,
   "metadata": {},
   "outputs": [
    {
     "data": {
      "image/png": "[encoded data removed]",
      "text/plain": [
       "<Figure size 2000x800 with 2 Axes>"
      ]
     },
     "metadata": {},
     "output_type": "display_data"
    }
   ],
   "source": [
    "# Create the plots\n",
    "fig, axes = plt.subplots(1, 2, figsize=(20, 8))\n",
    "plt.style.use('seaborn-v0_8-whitegrid')\n",
    "\n",
    "# Plot 1: Soup Accuracy vs. L2 Distance\n",
    "sns.scatterplot(\n",
    "    data=df_results,\n",
    "    x='l2_distance',\n",
    "    y='soup_accuracy',\n",
    "    ax=axes[0]\n",
    ")\n",
    "axes[0].set_title('Soup Accuracy vs. L2 Distance', fontsize=16)\n",
    "axes[0].set_xlabel('L2 Distance', fontsize=12)\n",
    "axes[0].set_ylabel('Soup Accuracy', fontsize=12)\n",
    "\n",
    "# Plot 2: Soup Improvement vs. L2 Distance\n",
    "sns.scatterplot(\n",
    "    data=df_results,\n",
    "    x='l2_distance',\n",
    "    y='soup_improvement',\n",
    "    ax=axes[1]\n",
    ")\n",
    "axes[1].set_title('Soup Improvement vs. L2 Distance', fontsize=16)\n",
    "axes[1].set_xlabel('L2 Distance', fontsize=12)\n",
    "axes[1].set_ylabel('Soup Improvement (Soup Acc - Mean Acc)', fontsize=12)\n",
    "\n",
    "plt.tight_layout()\n",
    "plt.show()"
   ]
  },
  {
   "cell_type": "code",
   "execution_count": null,
   "metadata": {},
   "outputs": [],
   "source": []
  }
 ],
 "metadata": {
  "accelerator": "GPU",
  "colab": {
   "collapsed_sections": [
    "b_-KAJBYR4tH",
    "TmkIYFQuR4tI"
   ],
   "provenance": []
  },
  "kernelspec": {
   "display_name": ".venv",
   "language": "python",
   "name": "python3"
  },
  "language_info": {
   "codemirror_mode": {
    "name": "ipython",
    "version": 3
   },
   "file_extension": ".py",
   "mimetype": "text/x-python",
   "name": "python",
   "nbconvert_exporter": "python",
   "pygments_lexer": "ipython3",
   "version": "3.11.5"
  }
 },
 "nbformat": 4,
 "nbformat_minor": 0
}
